{
 "cells": [
  {
   "cell_type": "code",
   "execution_count": 3,
   "id": "02b30c66-a579-4ddf-9163-dadd519a26ea",
   "metadata": {},
   "outputs": [
    {
     "name": "stdin",
     "output_type": "stream",
     "text": [
      "what is your age? 25\n"
     ]
    }
   ],
   "source": [
    "user_age = int(input('what is your age?'))\n",
    "if user_age > 30:\n",
    "    print('You are over 30 years old')"
   ]
  },
  {
   "cell_type": "code",
   "execution_count": 4,
   "id": "27f16a5b-75a5-4d0e-a1f1-d7c968de93c1",
   "metadata": {},
   "outputs": [
    {
     "name": "stdin",
     "output_type": "stream",
     "text": [
      "what is your age? 49\n"
     ]
    },
    {
     "name": "stdout",
     "output_type": "stream",
     "text": [
      "You are over 30 years old\n"
     ]
    }
   ],
   "source": [
    "user_age = int(input('what is your age?'))\n",
    "if user_age > 30:\n",
    "    print('You are over 30 years old')"
   ]
  },
  {
   "cell_type": "code",
   "execution_count": 5,
   "id": "0f77f45e-46fc-44a4-ab07-d258318ad09b",
   "metadata": {},
   "outputs": [
    {
     "name": "stdin",
     "output_type": "stream",
     "text": [
      "what is your age? 40\n"
     ]
    },
    {
     "name": "stdout",
     "output_type": "stream",
     "text": [
      "You are over 30 years old\n",
      "You do not qualify\n"
     ]
    }
   ],
   "source": [
    "user_age = int(input('what is your age?'))\n",
    "if user_age > 30:\n",
    "    print('You are over 30 years old')\n",
    "    print('You do not qualify')"
   ]
  },
  {
   "cell_type": "code",
   "execution_count": 6,
   "id": "bc86e183-d9c7-4019-a495-580bea405ed5",
   "metadata": {},
   "outputs": [
    {
     "name": "stdin",
     "output_type": "stream",
     "text": [
      "what is your age? 22\n"
     ]
    },
    {
     "name": "stdout",
     "output_type": "stream",
     "text": [
      "You qulaify.\n",
      "Congrats\n"
     ]
    }
   ],
   "source": [
    "user_age = int(input('what is your age?'))\n",
    "if user_age > 30:\n",
    "    print('You are over 30 years old')\n",
    "    print('You do not qualify')\n",
    "else:\n",
    "    print('You qulaify.')\n",
    "    print('Congrats')"
   ]
  },
  {
   "cell_type": "code",
   "execution_count": 7,
   "id": "22dd28b0-35d6-40fd-875c-d04188794524",
   "metadata": {},
   "outputs": [
    {
     "ename": "SyntaxError",
     "evalue": "invalid syntax (1546654050.py, line 8)",
     "output_type": "error",
     "traceback": [
      "\u001b[0;36m  Cell \u001b[0;32mIn[7], line 8\u001b[0;36m\u001b[0m\n\u001b[0;31m    elif user_age == 30:\u001b[0m\n\u001b[0m    ^\u001b[0m\n\u001b[0;31mSyntaxError\u001b[0m\u001b[0;31m:\u001b[0m invalid syntax\n"
     ]
    }
   ],
   "source": [
    "user_age = int(input('what is your age?'))\n",
    "if user_age > 30:\n",
    "    print('You are over 30 years old')\n",
    "    print('You do not qualify')\n",
    "elif user_age == 30:\n",
    "    print('you will need to provide additional information.')\n",
    "else:\n",
    "    print('You qulaify.')\n",
    "    print('Congrats')\n"
   ]
  },
  {
   "cell_type": "code",
   "execution_count": null,
   "id": "795383ae-fce3-4e79-aa08-99190fb26464",
   "metadata": {},
   "outputs": [],
   "source": []
  }
 ],
 "metadata": {
  "kernelspec": {
   "display_name": "anaconda-panel-2023.05-py310",
   "language": "python",
   "name": "conda-env-anaconda-panel-2023.05-py310-py"
  },
  "language_info": {
   "codemirror_mode": {
    "name": "ipython",
    "version": 3
   },
   "file_extension": ".py",
   "mimetype": "text/x-python",
   "name": "python",
   "nbconvert_exporter": "python",
   "pygments_lexer": "ipython3",
   "version": "3.11.3"
  }
 },
 "nbformat": 4,
 "nbformat_minor": 5
}
